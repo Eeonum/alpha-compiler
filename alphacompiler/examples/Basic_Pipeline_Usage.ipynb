{
 "cells": [
  {
   "cell_type": "code",
   "execution_count": 1,
   "metadata": {
    "collapsed": true
   },
   "outputs": [],
   "source": [
    "import pandas as pd\n",
    "from zipline.data.bundles.core import register\n",
    "from zipline.pipeline import Pipeline\n",
    "from zipline.pipeline.data import USEquityPricing\n",
    "\n",
    "from alphacompiler.util.zipline_data_tools import make_pipeline_engine"
   ]
  },
  {
   "cell_type": "code",
   "execution_count": 2,
   "metadata": {
    "collapsed": true
   },
   "outputs": [],
   "source": [
    "def str2dt(datestr):\n",
    "    \"\"\"Converts date strings to Pandas Datetimes at UTC.\"\"\"\n",
    "    return pd.to_datetime(datestr, utc=True)"
   ]
  },
  {
   "cell_type": "code",
   "execution_count": 3,
   "metadata": {
    "collapsed": true
   },
   "outputs": [],
   "source": [
    "# constants\n",
    "BUNDLE = 'crsp'\n",
    "pipeline_data_dates = (str2dt('2015-01-06'), str2dt('2015-01-30'))\n",
    "backtest_dates = (str2dt('2015-01-06'), str2dt('2015-01-30'))"
   ]
  },
  {
   "cell_type": "code",
   "execution_count": 4,
   "metadata": {
    "collapsed": false
   },
   "outputs": [
    {
     "data": {
      "text/plain": [
       "int"
      ]
     },
     "execution_count": 4,
     "metadata": {},
     "output_type": "execute_result"
    }
   ],
   "source": [
    "# Step 1. Run Pipeline\n",
    "\n",
    "# 1.0 dummy bundle register\n",
    "register(BUNDLE, int)  # dummy register of bundle "
   ]
  },
  {
   "cell_type": "code",
   "execution_count": 5,
   "metadata": {
    "collapsed": true
   },
   "outputs": [],
   "source": [
    "# 1.1 create the pipeline engine\n",
    "spe = make_pipeline_engine(BUNDLE, pipeline_data_dates)\n",
    "\n",
    "# 1.2 create your pipeline (this could be more elaborate)\n",
    "pipe = Pipeline(columns={'Close': USEquityPricing.close.latest},)\n",
    "\n",
    "# 1.3 run your pipeline with the pipeline engine\n",
    "stocks = spe.run_pipeline(pipe, backtest_dates[0], backtest_dates[1])"
   ]
  },
  {
   "cell_type": "code",
   "execution_count": 6,
   "metadata": {
    "collapsed": false
   },
   "outputs": [
    {
     "name": "stdout",
     "output_type": "stream",
     "text": [
      "                                                    Close\n",
      "2015-01-06 00:00:00+00:00 Equity(0 [A])            39.800\n",
      "                          Equity(2 [AAC])          29.730\n",
      "                          Equity(3 [AAGIY])        21.990\n",
      "                          Equity(4 [AAL])          53.875\n",
      "                          Equity(5 [AAMC])        340.870\n",
      "                          Equity(6 [AAME])          4.010\n",
      "                          Equity(7 [AAN])          30.500\n",
      "                          Equity(8 [AAOI])         10.650\n",
      "                          Equity(9 [AAON])         21.185\n",
      "                          Equity(10 [AAP])        156.470\n",
      "                          Equity(11 [AAPL])       106.250\n",
      "                          Equity(12 [AAT])         40.830\n",
      "                          Equity(13 [AAU])          0.950\n",
      "                          Equity(14 [AAUKF])       17.360\n",
      "                          Equity(15 [AAWW])        46.650\n",
      "                          Equity(16 [AAXN])        25.690\n",
      "                          Equity(17 [AB])          25.210\n",
      "                          Equity(18 [ABB])         20.380\n",
      "                          Equity(19 [ABBV])        64.650\n",
      "                          Equity(20 [ABC])         89.690\n",
      "                          Equity(21 [ABCB])        25.250\n",
      "                          Equity(22 [ABCFF])        0.240\n",
      "                          Equity(23 [ABCP])         1.650\n",
      "                          Equity(24 [ABDC])        12.830\n",
      "                          Equity(25 [ABEO])         3.210\n",
      "                          Equity(26 [ABEV])         5.840\n",
      "                          Equity(27 [ABG])         74.000\n",
      "                          Equity(29 [ABIO])       123.480\n",
      "                          Equity(30 [ABM])         28.470\n",
      "                          Equity(31 [ABMC])         0.130\n",
      "...                                                   ...\n",
      "2015-01-30 00:00:00+00:00 Equity(10726 [BBAR])     14.410\n",
      "                          Equity(10727 [DUNRQ])     0.160\n",
      "                          Equity(10737 [WRESQ])     1.040\n",
      "                          Equity(10741 [COSIQ])     2.750\n",
      "                          Equity(10748 [PIOIQ])     1.773\n",
      "                          Equity(10749 [BADFF])    18.320\n",
      "                          Equity(10756 [EMRI])      0.810\n",
      "                          Equity(10762 [INPHQ])     2.000\n",
      "                          Equity(10763 [WAVXQ])     6.510\n",
      "                          Equity(10768 [ERB])       3.600\n",
      "                          Equity(10769 [ISON])      0.004\n",
      "                          Equity(10773 [NBSE])    157.600\n",
      "                          Equity(10774 [IMBI])      6.500\n",
      "                          Equity(10775 [POAHY])     8.590\n",
      "                          Equity(10778 [DTRK])      6.500\n",
      "                          Equity(10782 [AXIHQ])     0.310\n",
      "                          Equity(10783 [ISCIQ])     0.001\n",
      "                          Equity(10786 [VIAS])     16.320\n",
      "                          Equity(10787 [SLRX])    373.750\n",
      "                          Equity(10791 [GMAB])      6.722\n",
      "                          Equity(10801 [HEPA])   1540.002\n",
      "                          Equity(10802 [HHT])       5.250\n",
      "                          Equity(10810 [GDPMQ])     2.610\n",
      "                          Equity(10823 [NTUS])     38.370\n",
      "                          Equity(10828 [SLNG])     39.840\n",
      "                          Equity(10829 [PSTV])     70.480\n",
      "                          Equity(10835 [VMEMQ])    16.040\n",
      "                          Equity(10837 [VAL])     109.720\n",
      "                          Equity(10838 [VAL1])     83.780\n",
      "                          Equity(10839 [SSSS])      9.280\n",
      "\n",
      "[121222 rows x 1 columns]\n"
     ]
    }
   ],
   "source": [
    "print stocks"
   ]
  },
  {
   "cell_type": "code",
   "execution_count": null,
   "metadata": {
    "collapsed": true
   },
   "outputs": [],
   "source": []
  }
 ],
 "metadata": {
  "kernelspec": {
   "display_name": "zipline-march-19",
   "language": "python",
   "name": "zipline-march-19"
  },
  "language_info": {
   "codemirror_mode": {
    "name": "ipython",
    "version": 2
   },
   "file_extension": ".py",
   "mimetype": "text/x-python",
   "name": "python",
   "nbconvert_exporter": "python",
   "pygments_lexer": "ipython2",
   "version": "2.7.10"
  }
 },
 "nbformat": 4,
 "nbformat_minor": 1
}
